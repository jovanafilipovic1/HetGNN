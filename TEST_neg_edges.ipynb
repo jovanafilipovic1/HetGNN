{
 "cells": [
  {
   "cell_type": "code",
   "execution_count": 1,
   "metadata": {},
   "outputs": [],
   "source": [
    "import json\n",
    "import os\n",
    "import torch\n",
    "from NetworkAnalysis.Create_heterogeneous_graph import Create_heterogeneous_graph\n",
    "import pandas as pd"
   ]
  },
  {
   "cell_type": "code",
   "execution_count": 2,
   "metadata": {},
   "outputs": [],
   "source": [
    "# Load configuration from the JSON file\n",
    "with open('config/parameters.json', 'r') as config_file:\n",
    "    config = json.load(config_file)\n",
    "\n",
    "# Extract parameters with new structure\n",
    "settings = config[\"settings\"]\n",
    "graph_params = config[\"graph_parameters\"]\n",
    "model_params = config[\"model_parameters\"]\n",
    "training_params = config[\"training_parameters\"]"
   ]
  },
  {
   "cell_type": "code",
   "execution_count": 3,
   "metadata": {},
   "outputs": [
    {
     "name": "stdout",
     "output_type": "stream",
     "text": [
      "No file found, creating new one: [Errno 2] No such file or directory: './Data/multigraphs/heteroData_gene_cell_Neuroblastoma_cgp_cnv_META.pt'\n",
      "Loading data...\n",
      "Continuing with Gene1 and Gene2 as columns for the nodes\n",
      "14034 Nodes and 278974 interactions\n",
      "Filtering data for network membership...\n",
      "Filtering for informative genes...\n",
      "Creating dependency network using informative genes...\n",
      "Created dependency network with 25403 positive edges and 36958 negative edges\n",
      "Ratio of negative to positive dependencies: 1.45\n",
      "Processing gene features...\n",
      "Warning: 636 out of 14034 genes have no features\n",
      "Processing cell features...\n",
      "Processing features for 39 cells, feature type: cnv\n",
      "Final network will have 13398 genes and 39 cell lines\n",
      "Adding metapaths to the graph...\n",
      "[[('gene', 'dependency_of', 'cell'), ('cell', 'rev_dependency_of', 'gene')], [('cell', 'rev_dependency_of', 'gene'), ('gene', 'dependency_of', 'cell')]]\n"
     ]
    },
    {
     "name": "stderr",
     "output_type": "stream",
     "text": [
      "/Users/jovanafilipovic/Downloads/MSc Bioinformatics/Year 2/Thesis/GIT_HetGNN/env/lib/python3.11/site-packages/torch_geometric/edge_index.py:2007: UserWarning: Sparse CSR tensor support is in beta state. If you miss a functionality in the sparse tensor support, please submit a feature request to https://github.com/pytorch/pytorch/issues. (Triggered internally at /Users/runner/work/pytorch/pytorch/pytorch/aten/src/ATen/SparseCsrTensorImpl.cpp:55.)\n",
      "  out = torch.matmul(sparse_input, other)\n"
     ]
    },
    {
     "name": "stdout",
     "output_type": "stream",
     "text": [
      "HeteroData saved to ./Data/multigraphs/heteroData_gene_cell_Neuroblastoma_cgp_cnv_META.pt\n",
      "HeteroData(\n",
      "  metapath_dict={\n",
      "    (gene, metapath_0, gene)=[2],\n",
      "    (cell, metapath_1, cell)=[2],\n",
      "  },\n",
      "  gene={\n",
      "    node_id=[13398],\n",
      "    names=[13398],\n",
      "    x=[13398, 3438],\n",
      "  },\n",
      "  cell={\n",
      "    node_id=[39],\n",
      "    names=[39],\n",
      "    x=[39, 1224],\n",
      "  },\n",
      "  (gene, interacts_with, gene)={ edge_index=[2, 263122] },\n",
      "  (gene, dependency_of, cell)={\n",
      "    edge_index=[2, 61854],\n",
      "    edge_label=[61854],\n",
      "  },\n",
      "  (gene, rev_interacts_with, gene)={ edge_index=[2, 263122] },\n",
      "  (cell, rev_dependency_of, gene)={\n",
      "    edge_index=[2, 61854],\n",
      "    edge_label=[61854],\n",
      "  },\n",
      "  (gene, metapath_0, gene)={\n",
      "    edge_index=[2, 2515396],\n",
      "    edge_weight=[2515396],\n",
      "  },\n",
      "  (cell, metapath_1, cell)={\n",
      "    edge_index=[2, 1521],\n",
      "    edge_weight=[1521],\n",
      "  }\n",
      ")\n"
     ]
    }
   ],
   "source": [
    "#read in (or create) heterodata_object\n",
    "try:\n",
    "    filepath = os.path.join(\n",
    "        graph_params[\"base_path\"],\n",
    "        'multigraphs',\n",
    "        f'heteroData_gene_cell_'\n",
    "        f'{graph_params[\"cancer_type\"].replace(\" \", \"_\") if graph_params[\"cancer_type\"] else \"All\"}_'\n",
    "        f'{graph_params[\"gene_feat_name\"]}_{graph_params[\"cell_feat_name\"]}_'\n",
    "        f'{\"META\" if graph_params[\"metapaths\"] else \"\"}.pt'\n",
    "    )\n",
    "    heterodata_obj = torch.load(filepath)\n",
    "    print(f\"Loaded heterodata object from {filepath}\")\n",
    "\n",
    "except Exception as e:\n",
    "    print(f\"No file found, creating new one: {e}\")\n",
    "    graph_creator = Create_heterogeneous_graph(\n",
    "        BASE_PATH=graph_params[\"base_path\"],\n",
    "        cancer_type=graph_params[\"cancer_type\"],\n",
    "        cell_feature=graph_params[\"cell_feat_name\"],\n",
    "        gene_feature=graph_params[\"gene_feat_name\"],\n",
    "        metapaths=graph_params[\"metapaths\"]\n",
    "    )\n",
    "    heterodata_obj = graph_creator.run_pipeline()\n",
    "    print(heterodata_obj)"
   ]
  },
  {
   "cell_type": "code",
   "execution_count": 14,
   "metadata": {},
   "outputs": [
    {
     "name": "stdout",
     "output_type": "stream",
     "text": [
      "61854\n",
      "25203\n",
      "36651\n",
      "1.4542316390905845\n"
     ]
    }
   ],
   "source": [
    "# count dependecy edges with label 1 and 0 in heterodata_obj\n",
    "lbls = heterodata_obj['gene', 'dependency_of', 'cell'].edge_label\n",
    "print(len(lbls))\n",
    "\n",
    "print(len(lbls[lbls == 1]))\n",
    "print(len(lbls[lbls == 0]))\n",
    "\n",
    "npr = len(lbls[lbls == 0])/len(lbls[lbls == 1])\n",
    "print(npr)# load cell line metadata\n",
    "ccles = pd.read_csv(\"Data/Depmap/Model.csv\")\n",
    "\n"
   ]
  },
  {
   "cell_type": "code",
   "execution_count": null,
   "metadata": {},
   "outputs": [],
   "source": [
    "# load cell line metadata\n",
    "ccles = pd.read_csv(\"Data/Depmap/Model.csv\")\n"
   ]
  },
  {
   "cell_type": "code",
   "execution_count": 5,
   "metadata": {},
   "outputs": [
    {
     "name": "stdout",
     "output_type": "stream",
     "text": [
      "         ModelID  PatientID CellLineName StrippedCellLineName DepmapModelType  \\\n",
      "0     ACH-000001  PT-gj46wT  NIH:OVCAR-3            NIHOVCAR3           HGSOC   \n",
      "1     ACH-000002  PT-5qa3uk        HL-60                 HL60             AML   \n",
      "2     ACH-000003  PT-puKIyc        CACO2                CACO2            COAD   \n",
      "3     ACH-000004  PT-q4K2cp          HEL                  HEL             AML   \n",
      "4     ACH-000005  PT-q4K2cp   HEL 92.1.7              HEL9217             AML   \n",
      "...          ...        ...          ...                  ...             ...   \n",
      "1954  ACH-003161  PT-or1hkT    ABM-T9430             ABMT9430         ZIMMPSC   \n",
      "1955  ACH-003181  PT-W75e4m     NRH-LMS1              NRHLMS1             LMS   \n",
      "1956  ACH-003183  PT-BqidXH     NRH-MFS3              NRHMFS3             MFS   \n",
      "1957  ACH-003184  PT-21NMVa     NRH-LMS2              NRHLMS2             LMS   \n",
      "1958  ACH-003191  PT-B8KJKw     NRH-GCT2              NRHGCT2            GCTB   \n",
      "\n",
      "           OncotreeLineage     OncotreePrimaryDisease  \\\n",
      "0     Ovary/Fallopian Tube   Ovarian Epithelial Tumor   \n",
      "1                  Myeloid     Acute Myeloid Leukemia   \n",
      "2                    Bowel  Colorectal Adenocarcinoma   \n",
      "3                  Myeloid     Acute Myeloid Leukemia   \n",
      "4                  Myeloid     Acute Myeloid Leukemia   \n",
      "...                    ...                        ...   \n",
      "1954              Pancreas              Non-Cancerous   \n",
      "1955           Soft Tissue             Leiomyosarcoma   \n",
      "1956           Soft Tissue           Myxofibrosarcoma   \n",
      "1957           Soft Tissue             Leiomyosarcoma   \n",
      "1958                  Bone   Giant Cell Tumor of Bone   \n",
      "\n",
      "                            OncotreeSubtype OncotreeCode  \\\n",
      "0          High-Grade Serous Ovarian Cancer        HGSOC   \n",
      "1                    Acute Myeloid Leukemia          AML   \n",
      "2                      Colon Adenocarcinoma         COAD   \n",
      "3                    Acute Myeloid Leukemia          AML   \n",
      "4                    Acute Myeloid Leukemia          AML   \n",
      "...                                     ...          ...   \n",
      "1954  Immortalized Pancreatic Stromal Cells          NaN   \n",
      "1955                         Leiomyosarcoma          LMS   \n",
      "1956                       Myxofibrosarcoma          MFS   \n",
      "1957                         Leiomyosarcoma          LMS   \n",
      "1958               Giant Cell Tumor of Bone         GCTB   \n",
      "\n",
      "     LegacyMolecularSubtype  ... EngineeredModel TissueOrigin  \\\n",
      "0                       NaN  ...             NaN          NaN   \n",
      "1                       NaN  ...             NaN          NaN   \n",
      "2                       NaN  ...             NaN          NaN   \n",
      "3                       NaN  ...             NaN          NaN   \n",
      "4                       NaN  ...             NaN          NaN   \n",
      "...                     ...  ...             ...          ...   \n",
      "1954                    NaN  ...             NaN          NaN   \n",
      "1955                    NaN  ...             NaN          NaN   \n",
      "1956                    NaN  ...             NaN          NaN   \n",
      "1957                    NaN  ...             NaN          NaN   \n",
      "1958                    NaN  ...             NaN          NaN   \n",
      "\n",
      "     ModelDerivationMaterial  PublicComments  \\\n",
      "0                        NaN             NaN   \n",
      "1                        NaN             NaN   \n",
      "2                        NaN             NaN   \n",
      "3                        NaN             NaN   \n",
      "4                        NaN             NaN   \n",
      "...                      ...             ...   \n",
      "1954                     NaN             NaN   \n",
      "1955                     NaN             NaN   \n",
      "1956                     NaN             NaN   \n",
      "1957                     NaN             NaN   \n",
      "1958                     NaN             NaN   \n",
      "\n",
      "                                        CCLEName HCMIID WTSIMasterCellID  \\\n",
      "0                                NIHOVCAR3_OVARY    NaN           2201.0   \n",
      "1        HL60_HAEMATOPOIETIC_AND_LYMPHOID_TISSUE    NaN             55.0   \n",
      "2                          CACO2_LARGE_INTESTINE    NaN              NaN   \n",
      "3         HEL_HAEMATOPOIETIC_AND_LYMPHOID_TISSUE    NaN            783.0   \n",
      "4     HEL9217_HAEMATOPOIETIC_AND_LYMPHOID_TISSUE    NaN              NaN   \n",
      "...                                          ...    ...              ...   \n",
      "1954                                         NaN    NaN              NaN   \n",
      "1955                                    NRH-LMS1    NaN              NaN   \n",
      "1956                                    NRH-MFS3    NaN              NaN   \n",
      "1957                                    NRH-LMS2    NaN              NaN   \n",
      "1958                                    NRH-GCT2    NaN              NaN   \n",
      "\n",
      "     SangerModelID  COSMICID DateSharedIndbGaP  \n",
      "0        SIDM00105  905933.0               NaN  \n",
      "1        SIDM00829  905938.0               NaN  \n",
      "2        SIDM00891       NaN               NaN  \n",
      "3        SIDM00594  907053.0               NaN  \n",
      "4        SIDM00593       NaN               NaN  \n",
      "...            ...       ...               ...  \n",
      "1954           NaN       NaN               NaN  \n",
      "1955           NaN       NaN               NaN  \n",
      "1956           NaN       NaN               NaN  \n",
      "1957           NaN       NaN               NaN  \n",
      "1958           NaN       NaN               NaN  \n",
      "\n",
      "[1959 rows x 43 columns]\n"
     ]
    }
   ],
   "source": [
    "print(ccles)"
   ]
  },
  {
   "cell_type": "code",
   "execution_count": null,
   "metadata": {},
   "outputs": [],
   "source": []
  },
  {
   "cell_type": "code",
   "execution_count": null,
   "metadata": {},
   "outputs": [],
   "source": []
  }
 ],
 "metadata": {
  "kernelspec": {
   "display_name": "env",
   "language": "python",
   "name": "python3"
  },
  "language_info": {
   "codemirror_mode": {
    "name": "ipython",
    "version": 3
   },
   "file_extension": ".py",
   "mimetype": "text/x-python",
   "name": "python",
   "nbconvert_exporter": "python",
   "pygments_lexer": "ipython3",
   "version": "3.11.10"
  }
 },
 "nbformat": 4,
 "nbformat_minor": 2
}
