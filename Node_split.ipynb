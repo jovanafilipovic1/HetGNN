{
 "cells": [
  {
   "cell_type": "code",
   "execution_count": 10,
   "metadata": {},
   "outputs": [],
   "source": [
    "import numpy as np\n",
    "import torch \n",
    "import pandas as pd\n",
    "import torch_geometric.transforms as T\n"
   ]
  },
  {
   "cell_type": "code",
   "execution_count": 5,
   "metadata": {},
   "outputs": [
    {
     "name": "stdout",
     "output_type": "stream",
     "text": [
      "HeteroData(\n",
      "  metapath_dict={ (cell, metapath_0, cell)=[2] },\n",
      "  gene={\n",
      "    node_id=[13398],\n",
      "    names=[13398],\n",
      "    x=[13398, 3438],\n",
      "  },\n",
      "  cell={\n",
      "    node_id=[39],\n",
      "    names=[39],\n",
      "    x=[39, 1224],\n",
      "  },\n",
      "  (gene, interacts_with, gene)={ edge_index=[2, 263122] },\n",
      "  (gene, dependency_of, cell)={\n",
      "    edge_index=[2, 34804],\n",
      "    edge_label=[34804],\n",
      "  },\n",
      "  (cell, has_mutation_in, gene)={\n",
      "    edge_index=[2, 712],\n",
      "    edge_attr=[712],\n",
      "  },\n",
      "  (gene, rev_interacts_with, gene)={ edge_index=[2, 263122] },\n",
      "  (cell, rev_dependency_of, gene)={\n",
      "    edge_index=[2, 34804],\n",
      "    edge_label=[34804],\n",
      "  },\n",
      "  (gene, rev_has_mutation_in, cell)={\n",
      "    edge_index=[2, 712],\n",
      "    edge_attr=[712],\n",
      "  },\n",
      "  (cell, metapath_0, cell)={\n",
      "    edge_index=[2, 279],\n",
      "    edge_weight=[279],\n",
      "  }\n",
      ")\n"
     ]
    }
   ],
   "source": [
    "path = \"./Data/multigraphs/heteroData_gene_cell_Neuroblastoma_cgp_cnv_META2.pt\"\n",
    "\n",
    "new_data = torch.load(path)\n",
    "print(new_data)"
   ]
  },
  {
   "cell_type": "code",
   "execution_count": 58,
   "metadata": {},
   "outputs": [],
   "source": [
    "idk = T.RandomNodeSplit(\n",
    "        num_val=0.2,\n",
    "        num_test=0.1,\n",
    "        split='random',\n",
    "        key = 'node_types'\n",
    "    )"
   ]
  },
  {
   "cell_type": "code",
   "execution_count": 59,
   "metadata": {},
   "outputs": [
    {
     "data": {
      "text/plain": [
       "'cell'"
      ]
     },
     "execution_count": 59,
     "metadata": {},
     "output_type": "execute_result"
    }
   ],
   "source": [
    "# dir(new_data)\n",
    "\n",
    "new_data.node_types[1]\n"
   ]
  },
  {
   "cell_type": "code",
   "execution_count": 60,
   "metadata": {},
   "outputs": [
    {
     "name": "stdout",
     "output_type": "stream",
     "text": [
      "HeteroData(\n",
      "  metapath_dict={ (cell, metapath_0, cell)=[2] },\n",
      "  gene={\n",
      "    node_id=[13398],\n",
      "    names=[13398],\n",
      "    x=[13398, 3438],\n",
      "  },\n",
      "  cell={\n",
      "    node_id=[39],\n",
      "    names=[39],\n",
      "    x=[39, 1224],\n",
      "  },\n",
      "  (gene, interacts_with, gene)={ edge_index=[2, 263122] },\n",
      "  (gene, dependency_of, cell)={\n",
      "    edge_index=[2, 34804],\n",
      "    edge_label=[34804],\n",
      "  },\n",
      "  (cell, has_mutation_in, gene)={\n",
      "    edge_index=[2, 712],\n",
      "    edge_attr=[712],\n",
      "  },\n",
      "  (gene, rev_interacts_with, gene)={ edge_index=[2, 263122] },\n",
      "  (cell, rev_dependency_of, gene)={\n",
      "    edge_index=[2, 34804],\n",
      "    edge_label=[34804],\n",
      "  },\n",
      "  (gene, rev_has_mutation_in, cell)={\n",
      "    edge_index=[2, 712],\n",
      "    edge_attr=[712],\n",
      "  },\n",
      "  (cell, metapath_0, cell)={\n",
      "    edge_index=[2, 279],\n",
      "    edge_weight=[279],\n",
      "  }\n",
      ")\n"
     ]
    }
   ],
   "source": [
    "neww_data = idk(new_data)\n",
    "\n",
    "print(neww_data)"
   ]
  },
  {
   "cell_type": "code",
   "execution_count": 61,
   "metadata": {},
   "outputs": [
    {
     "ename": "AttributeError",
     "evalue": "'NodeStorage' object has no attribute 'train_mask'",
     "output_type": "error",
     "traceback": [
      "\u001b[0;31m---------------------------------------------------------------------------\u001b[0m",
      "\u001b[0;31mAttributeError\u001b[0m                            Traceback (most recent call last)",
      "Cell \u001b[0;32mIn[61], line 1\u001b[0m\n\u001b[0;32m----> 1\u001b[0m \u001b[43mneww_data\u001b[49m\u001b[43m[\u001b[49m\u001b[38;5;124;43m'\u001b[39;49m\u001b[38;5;124;43mcell\u001b[39;49m\u001b[38;5;124;43m'\u001b[39;49m\u001b[43m]\u001b[49m\u001b[38;5;241;43m.\u001b[39;49m\u001b[43mtrain_mask\u001b[49m\n",
      "File \u001b[0;32m~/Downloads/MSc Bioinformatics/Year 2/Thesis/GIT_HetGNN/env/lib/python3.11/site-packages/torch_geometric/data/storage.py:96\u001b[0m, in \u001b[0;36mBaseStorage.__getattr__\u001b[0;34m(self, key)\u001b[0m\n\u001b[1;32m     94\u001b[0m     \u001b[38;5;28;01mreturn\u001b[39;00m \u001b[38;5;28mself\u001b[39m[key]\n\u001b[1;32m     95\u001b[0m \u001b[38;5;28;01mexcept\u001b[39;00m \u001b[38;5;167;01mKeyError\u001b[39;00m:\n\u001b[0;32m---> 96\u001b[0m     \u001b[38;5;28;01mraise\u001b[39;00m \u001b[38;5;167;01mAttributeError\u001b[39;00m(\n\u001b[1;32m     97\u001b[0m         \u001b[38;5;124mf\u001b[39m\u001b[38;5;124m\"\u001b[39m\u001b[38;5;124m'\u001b[39m\u001b[38;5;132;01m{\u001b[39;00m\u001b[38;5;28mself\u001b[39m\u001b[38;5;241m.\u001b[39m\u001b[38;5;18m__class__\u001b[39m\u001b[38;5;241m.\u001b[39m\u001b[38;5;18m__name__\u001b[39m\u001b[38;5;132;01m}\u001b[39;00m\u001b[38;5;124m'\u001b[39m\u001b[38;5;124m object has no attribute \u001b[39m\u001b[38;5;124m'\u001b[39m\u001b[38;5;132;01m{\u001b[39;00mkey\u001b[38;5;132;01m}\u001b[39;00m\u001b[38;5;124m'\u001b[39m\u001b[38;5;124m\"\u001b[39m\n\u001b[1;32m     98\u001b[0m     ) \u001b[38;5;28;01mfrom\u001b[39;00m \u001b[38;5;28;01mNone\u001b[39;00m\n",
      "\u001b[0;31mAttributeError\u001b[0m: 'NodeStorage' object has no attribute 'train_mask'"
     ]
    }
   ],
   "source": [
    "neww_data['cell'].train_mask\n"
   ]
  },
  {
   "cell_type": "code",
   "execution_count": null,
   "metadata": {},
   "outputs": [],
   "source": []
  }
 ],
 "metadata": {
  "kernelspec": {
   "display_name": "env",
   "language": "python",
   "name": "python3"
  },
  "language_info": {
   "codemirror_mode": {
    "name": "ipython",
    "version": 3
   },
   "file_extension": ".py",
   "mimetype": "text/x-python",
   "name": "python",
   "nbconvert_exporter": "python",
   "pygments_lexer": "ipython3",
   "version": "3.11.11"
  }
 },
 "nbformat": 4,
 "nbformat_minor": 2
}
