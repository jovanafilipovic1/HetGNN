{
 "cells": [
  {
   "cell_type": "code",
   "execution_count": 3,
   "metadata": {},
   "outputs": [],
   "source": [
    "import torch"
   ]
  },
  {
   "cell_type": "code",
   "execution_count": 8,
   "metadata": {},
   "outputs": [
    {
     "data": {
      "text/plain": [
       "HeteroData(\n",
       "  metapath_dict={\n",
       "    (gene, metapath_0, gene)=[2],\n",
       "    (cell, metapath_1, cell)=[2],\n",
       "  },\n",
       "  gene={\n",
       "    node_id=[13398],\n",
       "    names=[13398],\n",
       "    x=[13398, 3438],\n",
       "  },\n",
       "  cell={\n",
       "    node_id=[25],\n",
       "    names=[25],\n",
       "    x=[25, 215],\n",
       "  },\n",
       "  (gene, interacts_with, gene)={ edge_index=[2, 263122] },\n",
       "  (gene, dependency_of, cell)={ edge_index=[2, 2523] },\n",
       "  (gene, rev_interacts_with, gene)={ edge_index=[2, 263122] },\n",
       "  (cell, rev_dependency_of, gene)={ edge_index=[2, 2523] },\n",
       "  (gene, metapath_0, gene)={\n",
       "    edge_index=[2, 61194],\n",
       "    edge_weight=[61194],\n",
       "  },\n",
       "  (cell, metapath_1, cell)={\n",
       "    edge_index=[2, 625],\n",
       "    edge_weight=[625],\n",
       "  }\n",
       ")"
      ]
     },
     "execution_count": 8,
     "metadata": {},
     "output_type": "execute_result"
    }
   ],
   "source": [
    "# load multigraph\n",
    "\n",
    "path = \"./Data/multigraphs/heteroData_gene_cell_Neuroblastoma_cgp_MOSA_META.pt\"\n",
    "\n",
    "torch.load(path)"
   ]
  },
  {
   "cell_type": "code",
   "execution_count": null,
   "metadata": {},
   "outputs": [],
   "source": []
  }
 ],
 "metadata": {
  "kernelspec": {
   "display_name": "env",
   "language": "python",
   "name": "python3"
  },
  "language_info": {
   "codemirror_mode": {
    "name": "ipython",
    "version": 3
   },
   "file_extension": ".py",
   "mimetype": "text/x-python",
   "name": "python",
   "nbconvert_exporter": "python",
   "pygments_lexer": "ipython3",
   "version": "3.11.10"
  }
 },
 "nbformat": 4,
 "nbformat_minor": 2
}
