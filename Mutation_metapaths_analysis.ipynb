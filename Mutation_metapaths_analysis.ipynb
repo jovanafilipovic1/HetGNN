{
 "cells": [
  {
   "cell_type": "code",
   "execution_count": 148,
   "metadata": {},
   "outputs": [],
   "source": [
    "import pandas as pd\n",
    "import numpy as np\n",
    "import torch\n"
   ]
  },
  {
   "cell_type": "markdown",
   "metadata": {},
   "source": [
    "# LOAD DATA"
   ]
  },
  {
   "cell_type": "code",
   "execution_count": 149,
   "metadata": {},
   "outputs": [],
   "source": [
    "# Load data\n",
    "\n",
    "cells = pd.read_csv(\"./Data/Depmap/Model.csv\")\n",
    "\n",
    "hotspot_mutations = pd.read_csv(\"./Data/Depmap/OmicsSomaticMutationsMatrixHotspot.csv\")\n",
    "damaging_mutations = pd.read_csv(\"./Data/Depmap/OmicsSomaticMutationsMatrixDamaging.csv\")\n",
    "\n",
    "\n"
   ]
  },
  {
   "cell_type": "code",
   "execution_count": 150,
   "metadata": {},
   "outputs": [
    {
     "name": "stdout",
     "output_type": "stream",
     "text": [
      "      ModelID  PatientID CellLineName StrippedCellLineName DepmapModelType  \\\n",
      "0  ACH-000001  PT-gj46wT  NIH:OVCAR-3            NIHOVCAR3           HGSOC   \n",
      "1  ACH-000002  PT-5qa3uk        HL-60                 HL60             AML   \n",
      "2  ACH-000003  PT-puKIyc        CACO2                CACO2            COAD   \n",
      "3  ACH-000004  PT-q4K2cp          HEL                  HEL             AML   \n",
      "4  ACH-000005  PT-q4K2cp   HEL 92.1.7              HEL9217             AML   \n",
      "\n",
      "        OncotreeLineage     OncotreePrimaryDisease  \\\n",
      "0  Ovary/Fallopian Tube   Ovarian Epithelial Tumor   \n",
      "1               Myeloid     Acute Myeloid Leukemia   \n",
      "2                 Bowel  Colorectal Adenocarcinoma   \n",
      "3               Myeloid     Acute Myeloid Leukemia   \n",
      "4               Myeloid     Acute Myeloid Leukemia   \n",
      "\n",
      "                    OncotreeSubtype OncotreeCode LegacyMolecularSubtype  ...  \\\n",
      "0  High-Grade Serous Ovarian Cancer        HGSOC                    NaN  ...   \n",
      "1            Acute Myeloid Leukemia          AML                    NaN  ...   \n",
      "2              Colon Adenocarcinoma         COAD                    NaN  ...   \n",
      "3            Acute Myeloid Leukemia          AML                    NaN  ...   \n",
      "4            Acute Myeloid Leukemia          AML                    NaN  ...   \n",
      "\n",
      "  EngineeredModel TissueOrigin ModelDerivationMaterial  PublicComments  \\\n",
      "0             NaN          NaN                     NaN             NaN   \n",
      "1             NaN          NaN                     NaN             NaN   \n",
      "2             NaN          NaN                     NaN             NaN   \n",
      "3             NaN          NaN                     NaN             NaN   \n",
      "4             NaN          NaN                     NaN             NaN   \n",
      "\n",
      "                                     CCLEName HCMIID WTSIMasterCellID  \\\n",
      "0                             NIHOVCAR3_OVARY    NaN           2201.0   \n",
      "1     HL60_HAEMATOPOIETIC_AND_LYMPHOID_TISSUE    NaN             55.0   \n",
      "2                       CACO2_LARGE_INTESTINE    NaN              NaN   \n",
      "3      HEL_HAEMATOPOIETIC_AND_LYMPHOID_TISSUE    NaN            783.0   \n",
      "4  HEL9217_HAEMATOPOIETIC_AND_LYMPHOID_TISSUE    NaN              NaN   \n",
      "\n",
      "  SangerModelID  COSMICID DateSharedIndbGaP  \n",
      "0     SIDM00105  905933.0               NaN  \n",
      "1     SIDM00829  905938.0               NaN  \n",
      "2     SIDM00891       NaN               NaN  \n",
      "3     SIDM00594  907053.0               NaN  \n",
      "4     SIDM00593       NaN               NaN  \n",
      "\n",
      "[5 rows x 43 columns]\n",
      "   Unnamed: 0  PIK3CD (5293)  MTOR (2475)  KLHDC7A (127707)  ARID1A (8289)  \\\n",
      "0  ACH-000062            0.0          0.0               0.0            0.0   \n",
      "1  ACH-001949            0.0          0.0               0.0            0.0   \n",
      "2  ACH-000402            0.0          0.0               0.0            0.0   \n",
      "3  ACH-000693            0.0          0.0               0.0            0.0   \n",
      "4  ACH-000930            0.0          0.0               0.0            0.0   \n",
      "\n",
      "   ZSCAN20 (7579)  CSMD2 (114784)  EIF2B3 (8891)  HPDL (84842)  STIL (6491)  \\\n",
      "0             0.0             0.0            0.0           0.0          0.0   \n",
      "1             0.0             0.0            0.0           0.0          0.0   \n",
      "2             0.0             0.0            0.0           0.0          0.0   \n",
      "3             0.0             0.0            0.0           0.0          0.0   \n",
      "4             0.0             0.0            0.0           0.0          0.0   \n",
      "\n",
      "   ...  MAGED2 (10916)  AR (367)  MED12 (9968)  ATRX (546)  TRPC5 (7224)  \\\n",
      "0  ...             0.0       0.0           0.0         0.0           0.0   \n",
      "1  ...             0.0       0.0           0.0         0.0           0.0   \n",
      "2  ...             0.0       0.0           0.0         0.0           0.0   \n",
      "3  ...             0.0       0.0           0.0         0.0           0.0   \n",
      "4  ...             0.0       0.0           0.0         0.0           0.0   \n",
      "\n",
      "   AMOT (154796)  DCAF12L2 (340578)  GPC3 (2719)  MAGEC1 (9947)  GABRE (2564)  \n",
      "0            0.0                0.0          0.0            0.0           0.0  \n",
      "1            0.0                0.0          0.0            0.0           0.0  \n",
      "2            0.0                0.0          0.0            0.0           0.0  \n",
      "3            0.0                0.0          0.0            0.0           0.0  \n",
      "4            0.0                0.0          0.0            0.0           0.0  \n",
      "\n",
      "[5 rows x 543 columns]\n",
      "   Unnamed: 0  FAM87B (400728)  LINC01128 (643837)  SAMD11 (148398)  \\\n",
      "0  ACH-000062              1.0                 0.0              0.0   \n",
      "1  ACH-001949              0.0                 1.0              0.0   \n",
      "2  ACH-000402              0.0                 0.0              0.0   \n",
      "3  ACH-000693              0.0                 0.0              0.0   \n",
      "4  ACH-000930              0.0                 0.0              0.0   \n",
      "\n",
      "   NOC2L (26155)  KLHL17 (339451)  PERM1 (84808)  HES4 (57801)  ISG15 (9636)  \\\n",
      "0            0.0              0.0            0.0           0.0           0.0   \n",
      "1            0.0              0.0            0.0           0.0           0.0   \n",
      "2            0.0              0.0            0.0           0.0           0.0   \n",
      "3            0.0              0.0            0.0           0.0           0.0   \n",
      "4            0.0              0.0            0.0           0.0           0.0   \n",
      "\n",
      "   AGRN (375790)  ...  OR7L1P (Unknown)  MIR503HG (Unknown)  \\\n",
      "0            0.0  ...               0.0                 0.0   \n",
      "1            0.0  ...               0.0                 0.0   \n",
      "2            0.0  ...               0.0                 0.0   \n",
      "3            0.0  ...               0.0                 0.0   \n",
      "4            0.0  ...               0.0                 0.0   \n",
      "\n",
      "   TM9SF5P (Unknown)  TRMT1P1 (Unknown)  RPS4Y1 (6192)  CHEK2P1 (Unknown)  \\\n",
      "0                0.0                0.0            0.0                0.0   \n",
      "1                0.0                0.0            0.0                0.0   \n",
      "2                0.0                0.0            0.0                0.0   \n",
      "3                0.0                0.0            0.0                0.0   \n",
      "4                0.0                0.0            0.0                0.0   \n",
      "\n",
      "   ARSDP1 (Unknown)  ANOS2P (Unknown)  TTTY13 (83868)  TPTE2P4 (Unknown)  \n",
      "0               0.0               0.0             0.0                0.0  \n",
      "1               0.0               0.0             0.0                0.0  \n",
      "2               0.0               0.0             0.0                0.0  \n",
      "3               0.0               0.0             0.0                0.0  \n",
      "4               0.0               0.0             0.0                0.0  \n",
      "\n",
      "[5 rows x 19098 columns]\n"
     ]
    }
   ],
   "source": [
    "print(cells.head())\n",
    "print(hotspot_mutations.head())  # 543 genes\n",
    "print(damaging_mutations.head())  # 19098 genes"
   ]
  },
  {
   "cell_type": "code",
   "execution_count": 151,
   "metadata": {},
   "outputs": [
    {
     "name": "stdout",
     "output_type": "stream",
     "text": [
      "(1929, 543)\n",
      "(1929, 19098)\n"
     ]
    }
   ],
   "source": [
    "print(hotspot_mutations.shape)  # 543 genes\n",
    "print(damaging_mutations.shape)  # 19098 genes"
   ]
  },
  {
   "cell_type": "code",
   "execution_count": 152,
   "metadata": {},
   "outputs": [],
   "source": [
    "#load graph \n",
    "\n",
    "heteroData_obj = torch.load(\"./Data/multigraphs/heteroData_gene_cell_Neuroblastoma_cgp_cnv_META2.pt\")\n"
   ]
  },
  {
   "cell_type": "markdown",
   "metadata": {},
   "source": [
    "# FILTER NEUROBLASTOMA"
   ]
  },
  {
   "cell_type": "code",
   "execution_count": 153,
   "metadata": {},
   "outputs": [],
   "source": [
    "neuroblastoma_ids = heteroData_obj['cell'].names\n",
    "\n",
    "# Ensure the first column is used as an index to match against ModelIDs\n",
    "hotspot_neuroblastoma = hotspot_mutations[hotspot_mutations.iloc[:, 0].isin(neuroblastoma_ids)]\n",
    "damaging_neuroblastoma = damaging_mutations[damaging_mutations.iloc[:, 0].isin(neuroblastoma_ids)]\n",
    "\n"
   ]
  },
  {
   "cell_type": "code",
   "execution_count": 154,
   "metadata": {},
   "outputs": [
    {
     "name": "stdout",
     "output_type": "stream",
     "text": [
      "(39, 543)\n",
      "(39, 19098)\n"
     ]
    }
   ],
   "source": [
    "print(hotspot_neuroblastoma.shape)\n",
    "print(damaging_neuroblastoma.shape)"
   ]
  },
  {
   "cell_type": "markdown",
   "metadata": {},
   "source": [
    "# Remove cells not in heterodata"
   ]
  },
  {
   "cell_type": "code",
   "execution_count": null,
   "metadata": {},
   "outputs": [],
   "source": []
  },
  {
   "cell_type": "markdown",
   "metadata": {},
   "source": [
    "# Remove genes that are never mutated\n",
    "i.e. sum of columns = 0"
   ]
  },
  {
   "cell_type": "code",
   "execution_count": 155,
   "metadata": {},
   "outputs": [
    {
     "name": "stdout",
     "output_type": "stream",
     "text": [
      "(39, 13)\n",
      "(39, 922)\n"
     ]
    }
   ],
   "source": [
    "hotspot_neuroblastoma = hotspot_neuroblastoma.loc[:, (hotspot_neuroblastoma != 0).any()]\n",
    "damaging_neuroblastoma = damaging_neuroblastoma.loc[:, (damaging_neuroblastoma != 0).any()]\n",
    "\n",
    "print(hotspot_neuroblastoma.shape)\n",
    "print(damaging_neuroblastoma.shape)"
   ]
  },
  {
   "cell_type": "markdown",
   "metadata": {},
   "source": [
    "# Count"
   ]
  },
  {
   "cell_type": "code",
   "execution_count": 156,
   "metadata": {},
   "outputs": [],
   "source": [
    "hotspot_counts = hotspot_neuroblastoma.drop('Unnamed: 0', axis=1).sum()\n",
    "damaging_counts = damaging_neuroblastoma.drop('Unnamed: 0', axis=1).sum()\n",
    "\n",
    "\n",
    "# Convert to DataFrames and sort by counts in descending order\n",
    "hotspot_df = pd.DataFrame({\n",
    "    'Gene': hotspot_counts.index.str.split(' ').str[0],\n",
    "    'Count': hotspot_counts.values\n",
    "}).sort_values('Count', ascending=False)\n",
    "\n",
    "damaging_df = pd.DataFrame({\n",
    "    'Gene': damaging_counts.index.str.split(' ').str[0],\n",
    "    'Count': damaging_counts.values\n",
    "}).sort_values('Count', ascending=False)\n"
   ]
  },
  {
   "cell_type": "code",
   "execution_count": 157,
   "metadata": {},
   "outputs": [
    {
     "name": "stdout",
     "output_type": "stream",
     "text": [
      "       Gene  Count\n",
      "4      TP53   22.0\n",
      "7       ALK    8.0\n",
      "9      TERT    7.0\n",
      "0      NRAS    2.0\n",
      "3       MAX    2.0\n",
      "6   SMARCA4    2.0\n",
      "1     GATA3    1.0\n",
      "2      KRAS    1.0\n",
      "5       NF1    1.0\n",
      "8    PIK3CA    1.0\n",
      "10    HLA-A    1.0\n",
      "11     RAC1    1.0\n"
     ]
    }
   ],
   "source": [
    "print(hotspot_df)\n"
   ]
  },
  {
   "cell_type": "markdown",
   "metadata": {},
   "source": [
    " ALK --> Jonathan PhD\n",
    "\n",
    "TP53 --> tumore suppressor??"
   ]
  },
  {
   "cell_type": "code",
   "execution_count": 162,
   "metadata": {},
   "outputs": [
    {
     "name": "stdout",
     "output_type": "stream",
     "text": [
      "(921, 2)\n",
      "        Gene  Count\n",
      "318     TP53   24.0\n",
      "329      NF1    7.0\n",
      "15    ARID1A    4.0\n",
      "885     WWC3    3.0\n",
      "72   RPS6KC1    3.0\n",
      "167     MMP1    3.0\n",
      "858    FANCC    3.0\n",
      "308   PIEZO1    3.0\n",
      "220   ZNF664    3.0\n",
      "189     PRB3    3.0\n",
      "760   DNAH11    3.0\n",
      "258    TYRO3    3.0\n",
      "25     IL23R    3.0\n",
      "558    CRTAP    2.0\n",
      "99      NRG3    2.0\n",
      "336   CAVIN1    2.0\n",
      "562  SLC6A20    2.0\n",
      "566   IMPDH2    2.0\n",
      "200   FIGNL2    2.0\n",
      "330   SLFN11    2.0\n",
      "920   TPM3P2    2.0\n",
      "327    USP22    2.0\n",
      "552     ARSA    2.0\n",
      "404    FCGBP    2.0\n",
      "323    MYH13    2.0\n"
     ]
    }
   ],
   "source": [
    "print(damaging_df.shape)\n",
    "print(damaging_df.head(25))"
   ]
  },
  {
   "cell_type": "code",
   "execution_count": 159,
   "metadata": {},
   "outputs": [
    {
     "data": {
      "text/html": [
       "<div>\n",
       "<style scoped>\n",
       "    .dataframe tbody tr th:only-of-type {\n",
       "        vertical-align: middle;\n",
       "    }\n",
       "\n",
       "    .dataframe tbody tr th {\n",
       "        vertical-align: top;\n",
       "    }\n",
       "\n",
       "    .dataframe thead th {\n",
       "        text-align: right;\n",
       "    }\n",
       "</style>\n",
       "<table border=\"1\" class=\"dataframe\">\n",
       "  <thead>\n",
       "    <tr style=\"text-align: right;\">\n",
       "      <th></th>\n",
       "      <th>Gene</th>\n",
       "      <th>Count</th>\n",
       "    </tr>\n",
       "  </thead>\n",
       "  <tbody>\n",
       "  </tbody>\n",
       "</table>\n",
       "</div>"
      ],
      "text/plain": [
       "Empty DataFrame\n",
       "Columns: [Gene, Count]\n",
       "Index: []"
      ]
     },
     "execution_count": 159,
     "metadata": {},
     "output_type": "execute_result"
    }
   ],
   "source": [
    "# Show rows where 'Gene' contains 'MYCN'\n",
    "damaging_df[damaging_df['Gene'].str.contains('CDK4', case=False, na=False)]\n"
   ]
  },
  {
   "cell_type": "markdown",
   "metadata": {},
   "source": [
    "ATR, PARP, "
   ]
  },
  {
   "cell_type": "markdown",
   "metadata": {},
   "source": [
    "# Count cells with 0 mutations"
   ]
  },
  {
   "cell_type": "code",
   "execution_count": 160,
   "metadata": {},
   "outputs": [
    {
     "name": "stdout",
     "output_type": "stream",
     "text": [
      "12\n"
     ]
    }
   ],
   "source": [
    "if 'Unnamed: 0' in hotspot_neuroblastoma.columns:\n",
    "    hotspot_neuroblastoma = hotspot_neuroblastoma.drop('Unnamed: 0', axis=1)\n",
    "    damaging_neuroblastoma = damaging_neuroblastoma.drop('Unnamed: 0', axis=1)\n",
    "\n",
    "# Calculate row sums\n",
    "row_sums = hotspot_neuroblastoma.sum(axis=1)\n",
    "\n",
    "# Count how many rows have sum = 0\n",
    "zero_sum_count = (row_sums == 0).sum()\n",
    "print(zero_sum_count)\n"
   ]
  },
  {
   "cell_type": "code",
   "execution_count": 161,
   "metadata": {},
   "outputs": [
    {
     "name": "stdout",
     "output_type": "stream",
     "text": [
      "0\n"
     ]
    }
   ],
   "source": [
    "# Calculate row sums\n",
    "row_sums = damaging_neuroblastoma.sum(axis=1)\n",
    "\n",
    "# Count how many rows have sum = 0\n",
    "zero_sum_count = (row_sums == 0).sum()\n",
    "print(zero_sum_count)\n"
   ]
  }
 ],
 "metadata": {
  "kernelspec": {
   "display_name": "env",
   "language": "python",
   "name": "python3"
  },
  "language_info": {
   "codemirror_mode": {
    "name": "ipython",
    "version": 3
   },
   "file_extension": ".py",
   "mimetype": "text/x-python",
   "name": "python",
   "nbconvert_exporter": "python",
   "pygments_lexer": "ipython3",
   "version": "3.11.11"
  }
 },
 "nbformat": 4,
 "nbformat_minor": 2
}
