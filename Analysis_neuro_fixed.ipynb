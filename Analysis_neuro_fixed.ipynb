{
  "cells": [
    {
      "cell_type": "markdown",
      "metadata": {
        "vscode": {
          "languageId": "raw"
        }
      },
      "source": [
        "# Neuroblastoma Analysis\n",
        "\n",
        "This notebook contains the analysis for neuroblastoma data that was recovered from the corrupted Analysis_neuro.ipynb file.\n"
      ]
    },
    {
      "cell_type": "code",
      "execution_count": null,
      "metadata": {},
      "outputs": [],
      "source": [
        "import pandas as pd\n",
        "import seaborn as sns\n",
        "import matplotlib.pyplot as plt\n",
        "import numpy as np\n",
        "import torch\n"
      ]
    },
    {
      "cell_type": "markdown",
      "metadata": {
        "vscode": {
          "languageId": "raw"
        }
      },
      "source": [
        "# 1. Data"
      ]
    },
    {
      "cell_type": "code",
      "execution_count": null,
      "metadata": {},
      "outputs": [],
      "source": [
        "data = [\n",
        "    # GNN\n",
        "    {\"Model\": \"GNN\", \"Gene feature\": \"CGP\", \"Cell feature\": \"CNV\", \"Test AP\": 0.91068, \"Gene mAP\": 0.87902, \"Cell mAP\": 0.88392},\n",
        "    {\"Model\": \"GNN\", \"Gene feature\": \"CGP\", \"Cell feature\": \"MOSA\", \"Test AP\": 0.92448, \"Gene mAP\": 0.91121, \"Cell mAP\": 0.88933},\n",
        "    {\"Model\": \"GNN\", \"Gene feature\": \"CGP\", \"Cell feature\": \"expression\", \"Test AP\": 0.92007, \"Gene mAP\": 0.90378, \"Cell mAP\": 0.89651},\n",
        "    {\"Model\": \"GNN\", \"Gene feature\": \"CGP\", \"Cell feature\": \"expression_mg\", \"Test AP\": 0.90651, \"Gene mAP\": 0.88788, \"Cell mAP\": 0.87394},\n",
        "    {\"Model\": \"GNN\", \"Gene feature\": \"C4\", \"Cell feature\": \"CNV\", \"Test AP\": 0.89279, \"Gene mAP\": 0.87496, \"Cell mAP\": 0.88345},\n",
        "    {\"Model\": \"GNN\", \"Gene feature\": \"C4\", \"Cell feature\": \"MOSA\", \"Test AP\": 0.90509, \"Gene mAP\": 0.91569, \"Cell mAP\": 0.87720},\n",
        "    {\"Model\": \"GNN\", \"Gene feature\": \"C4\", \"Cell feature\": \"expression\", \"Test AP\": 0.89910, \"Gene mAP\": 0.89161, \"Cell mAP\": 0.86522},\n",
        "    {\"Model\": \"GNN\", \"Gene feature\": \"C4\", \"Cell feature\": \"expression_mg\", \"Test AP\": 0.87946, \"Gene mAP\": 0.87388, \"Cell mAP\": 0.85561},\n",
        "\n",
        "    # GNN-GNN-MPMUT\n",
        "    {\"Model\": \"GNN-GNN-MPMUT\", \"Gene feature\": \"CGP\", \"Cell feature\": \"CNV\", \"Test AP\": 0.92619, \"Gene mAP\": 0.89476, \"Cell mAP\": 0.89838},\n",
        "    {\"Model\": \"GNN-GNN-MPMUT\", \"Gene feature\": \"CGP\", \"Cell feature\": \"MOSA\", \"Test AP\": 0.92240, \"Gene mAP\": 0.90408, \"Cell mAP\": 0.89446},\n",
        "    {\"Model\": \"GNN-GNN-MPMUT\", \"Gene feature\": \"CGP\", \"Cell feature\": \"expression\", \"Test AP\": 0.92696, \"Gene mAP\": 0.90872, \"Cell mAP\": 0.89282},\n",
        "    {\"Model\": \"GNN-GNN-MPMUT\", \"Gene feature\": \"CGP\", \"Cell feature\": \"expression_mg\", \"Test AP\": 0.92301, \"Gene mAP\": 0.88791, \"Cell mAP\": 0.90231},\n",
        "    {\"Model\": \"GNN-GNN-MPMUT\", \"Gene feature\": \"C4\", \"Cell feature\": \"CNV\", \"Test AP\": 0.91085, \"Gene mAP\": 0.88265, \"Cell mAP\": 0.89262},\n",
        "    {\"Model\": \"GNN-GNN-MPMUT\", \"Gene feature\": \"C4\", \"Cell feature\": \"MOSA\", \"Test AP\": 0.92277, \"Gene mAP\": 0.91989, \"Cell mAP\": 0.89646},\n",
        "    {\"Model\": \"GNN-GNN-MPMUT\", \"Gene feature\": \"C4\", \"Cell feature\": \"expression\", \"Test AP\": 0.92149, \"Gene mAP\": 0.90355, \"Cell mAP\": 0.89362},\n",
        "    {\"Model\": \"GNN-GNN-MPMUT\", \"Gene feature\": \"C4\", \"Cell feature\": \"expression_mg\", \"Test AP\": 0.91757, \"Gene mAP\": 0.89143, \"Cell mAP\": 0.89075},\n",
        "\n",
        "    # GNN-GNN-MPDEP\n",
        "    {\"Model\": \"GNN-GNN-MPDEP\", \"Gene feature\": \"CGP\", \"Cell feature\": \"CNV\", \"Test AP\": 0.91862, \"Gene mAP\": 0.88424, \"Cell mAP\": 0.89343},\n",
        "    {\"Model\": \"GNN-GNN-MPDEP\", \"Gene feature\": \"CGP\", \"Cell feature\": \"expression\", \"Test AP\": 0.92400, \"Gene mAP\": 0.89995, \"Cell mAP\": 0.89552},\n",
        "    {\"Model\": \"GNN-GNN-MPDEP\", \"Gene feature\": \"CGP\", \"Cell feature\": \"expression_mg\", \"Test AP\": 0.91321, \"Gene mAP\": 0.90891, \"Cell mAP\": 0.89262},\n",
        "    {\"Model\": \"GNN-GNN-MPDEP\", \"Gene feature\": \"CGP\", \"Cell feature\": \"MOSA\", \"Test AP\": 0.91396, \"Gene mAP\": 0.90667, \"Cell mAP\": 0.88403},\n",
        "    {\"Model\": \"GNN-GNN-MPDEP\", \"Gene feature\": \"C4\", \"Cell feature\": \"CNV\", \"Test AP\": 0.91652, \"Gene mAP\": 0.87734, \"Cell mAP\": 0.89837},\n",
        "    {\"Model\": \"GNN-GNN-MPDEP\", \"Gene feature\": \"C4\", \"Cell feature\": \"expression\", \"Test AP\": 0.92029, \"Gene mAP\": 0.90026, \"Cell mAP\": 0.89130},\n",
        "    {\"Model\": \"GNN-GNN-MPDEP\", \"Gene feature\": \"C4\", \"Cell feature\": \"expression_mg\", \"Test AP\": 0.92607, \"Gene mAP\": 0.90465, \"Cell mAP\": 0.90181},\n",
        "    {\"Model\": \"GNN-GNN-MPDEP\", \"Gene feature\": \"C4\", \"Cell feature\": \"MOSA\", \"Test AP\": 0.89069, \"Gene mAP\": 0.90890, \"Cell mAP\": 0.86577},\n",
        "\n",
        "    # MLP-GNN\n",
        "    {\"Model\": \"MLP-GNN\", \"Gene feature\": \"CGP\", \"Cell feature\": \"CNV\", \"Test AP\": 0.91851, \"Gene mAP\": 0.88276, \"Cell mAP\": 0.90120},\n",
        "    {\"Model\": \"MLP-GNN\", \"Gene feature\": \"CGP\", \"Cell feature\": \"MOSA\", \"Test AP\": 0.92295, \"Gene mAP\": 0.90832, \"Cell mAP\": 0.89968},\n",
        "    {\"Model\": \"MLP-GNN\", \"Gene feature\": \"CGP\", \"Cell feature\": \"expression\", \"Test AP\": 0.91671, \"Gene mAP\": 0.89455, \"Cell mAP\": 0.88716},\n",
        "    {\"Model\": \"MLP-GNN\", \"Gene feature\": \"CGP\", \"Cell feature\": \"expression_mg\", \"Test AP\": 0.92453, \"Gene mAP\": 0.90737, \"Cell mAP\": 0.89571},\n",
        "    {\"Model\": \"MLP-GNN\", \"Gene feature\": \"C4\", \"Cell feature\": \"CNV\", \"Test AP\": 0.91468, \"Gene mAP\": 0.88603, \"Cell mAP\": 0.89877},\n",
        "    {\"Model\": \"MLP-GNN\", \"Gene feature\": \"C4\", \"Cell feature\": \"MOSA\", \"Test AP\": 0.90296, \"Gene mAP\": 0.89985, \"Cell mAP\": 0.86850},\n",
        "    {\"Model\": \"MLP-GNN\", \"Gene feature\": \"C4\", \"Cell feature\": \"expression\", \"Test AP\": 0.91401, \"Gene mAP\": 0.88986, \"Cell mAP\": 0.88146},\n",
        "    {\"Model\": \"MLP-GNN\", \"Gene feature\": \"C4\", \"Cell feature\": \"expression_mg\", \"Test AP\": 0.92307, \"Gene mAP\": 0.89476, \"Cell mAP\": 0.89763},\n",
        "\n",
        "    # MLP\n",
        "    {\"Model\": \"MLP\", \"Gene feature\": \"CGP\", \"Cell feature\": \"CNV\", \"Test AP\": 0.92941, \"Gene mAP\": 0.90075, \"Cell mAP\": 0.91008},\n",
        "    {\"Model\": \"MLP\", \"Gene feature\": \"CGP\", \"Cell feature\": \"MOSA\", \"Test AP\": 0.93020, \"Gene mAP\": 0.92616, \"Cell mAP\": 0.90438},\n",
        "    {\"Model\": \"MLP\", \"Gene feature\": \"CGP\", \"Cell feature\": \"expression\", \"Test AP\": 0.92418, \"Gene mAP\": 0.92141, \"Cell mAP\": 0.89483},\n",
        "    {\"Model\": \"MLP\", \"Gene feature\": \"CGP\", \"Cell feature\": \"expression_mg\", \"Test AP\": 0.92503, \"Gene mAP\": 0.92025, \"Cell mAP\": 0.89712},\n",
        "    {\"Model\": \"MLP\", \"Gene feature\": \"C4\", \"Cell feature\": \"CNV\", \"Test AP\": 0.89166, \"Gene mAP\": 0.88742, \"Cell mAP\": 0.87280},\n",
        "    {\"Model\": \"MLP\", \"Gene feature\": \"C4\", \"Cell feature\": \"MOSA\", \"Test AP\": 0.89872, \"Gene mAP\": 0.91174, \"Cell mAP\": 0.87288},\n",
        "    {\"Model\": \"MLP\", \"Gene feature\": \"C4\", \"Cell feature\": \"expression\", \"Test AP\": 0.90590, \"Gene mAP\": 0.91286, \"Cell mAP\": 0.88840},\n",
        "    {\"Model\": \"MLP\", \"Gene feature\": \"C4\", \"Cell feature\": \"expression_mg\", \"Test AP\": 0.89336, \"Gene mAP\": 0.91726, \"Cell mAP\": 0.86875},\n",
        "]\n",
        "\n",
        "df = pd.DataFrame(data)\n"
      ]
    },
    {
      "cell_type": "markdown",
      "metadata": {
        "vscode": {
          "languageId": "raw"
        }
      },
      "source": [
        "# 2. Plots\n"
      ]
    },
    {
      "cell_type": "code",
      "execution_count": null,
      "metadata": {},
      "outputs": [],
      "source": [
        "# Calculate mean and standard error for each model\n",
        "mean_by_model = df.groupby(\"Model\")[[\"Test AP\", \"Gene mAP\", \"Cell mAP\"]].mean()\n",
        "std_by_model = df.groupby(\"Model\")[[\"Test AP\", \"Gene mAP\", \"Cell mAP\"]].std()\n",
        "count_by_model = df.groupby(\"Model\")[[\"Test AP\", \"Gene mAP\", \"Cell mAP\"]].count()\n",
        "\n",
        "# Calculate standard error (std / sqrt(n))\n",
        "stderr_by_model = std_by_model / np.sqrt(count_by_model)\n",
        "\n",
        "# Transpose the dataframes to have AP metrics on x-axis and models as bars\n",
        "mean_by_model_transposed = mean_by_model.T\n",
        "stderr_by_model_transposed = stderr_by_model.T\n",
        "\n",
        "# Create the bar plot with error bars\n",
        "fig, ax = plt.subplots(figsize=(10, 6))\n",
        "\n",
        "# Get the positions for the bars\n",
        "x = np.arange(len(mean_by_model_transposed.index))\n",
        "width = 0.15  # Width of bars\n",
        "models = mean_by_model_transposed.columns\n",
        "\n",
        "# Plot bars for each model with error bars\n",
        "for i, model in enumerate(models):\n",
        "    ax.bar(x + i * width, mean_by_model_transposed[model], width, \n",
        "           yerr=stderr_by_model_transposed[model], \n",
        "           label=model, capsize=5, alpha=0.8)\n",
        "\n",
        "# Set the y-axis limits\n",
        "ax.set_ylim(bottom=0.87, top=0.93)\n",
        "\n",
        "# Set labels and title\n",
        "ax.set_xlabel(\"AP Metrics\")\n",
        "ax.set_ylabel(\"AP Scores\")\n",
        "ax.set_title(\"Average model performances\", fontsize=20)\n",
        "ax.set_xticks(x + width * (len(models) - 1) / 2)\n",
        "ax.set_xticklabels(mean_by_model_transposed.index)\n",
        "ax.legend()\n",
        "\n",
        "# Adjust plot to prevent labels from being cut off\n",
        "plt.tight_layout()\n",
        "plt.savefig(\"./Data/Figures/Neuro/Mean_metrics_per_model.png\", dpi=600, bbox_inches='tight')\n",
        "plt.show()\n"
      ]
    },
    {
      "cell_type": "markdown",
      "metadata": {
        "vscode": {
          "languageId": "raw"
        }
      },
      "source": [
        "The GNN model seems to have the lowest metrics for all three of them (test AP, gene AP and cell AP).\n"
      ]
    }
  ],
  "metadata": {
    "language_info": {
      "name": "python"
    }
  },
  "nbformat": 4,
  "nbformat_minor": 2
}
