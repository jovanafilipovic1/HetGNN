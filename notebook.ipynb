{
 "cells": [
  {
   "cell_type": "code",
   "execution_count": 8,
   "metadata": {},
   "outputs": [
    {
     "name": "stdout",
     "output_type": "stream",
     "text": [
      "1.25.1\n"
     ]
    }
   ],
   "source": [
    "import numpy as np\n",
    "print(np.__version__)\n",
    "\n",
    "import torch \n",
    "import pandas as pd"
   ]
  },
  {
   "cell_type": "code",
   "execution_count": 4,
   "metadata": {},
   "outputs": [
    {
     "name": "stdout",
     "output_type": "stream",
     "text": [
      "HeteroData(\n",
      "  metapath_dict={\n",
      "    (gene, metapath_0, gene)=[2],\n",
      "    (cell, metapath_1, cell)=[2],\n",
      "  },\n",
      "  gene={\n",
      "    node_id=[13398],\n",
      "    names=[13398],\n",
      "    x=[13398, 3438],\n",
      "  },\n",
      "  cell={\n",
      "    node_id=[1150],\n",
      "    names=[1150],\n",
      "    x=[1150, 1218],\n",
      "  },\n",
      "  (gene, interacts_with, gene)={ edge_index=[2, 263122] },\n",
      "  (gene, dependency_of, cell)={ edge_index=[2, 434098] },\n",
      "  (gene, rev_interacts_with, gene)={ edge_index=[2, 263122] },\n",
      "  (cell, rev_dependency_of, gene)={ edge_index=[2, 434098] },\n",
      "  (gene, metapath_0, gene)={\n",
      "    edge_index=[2, 2035911],\n",
      "    edge_weight=[2035911],\n",
      "  },\n",
      "  (cell, metapath_1, cell)={\n",
      "    edge_index=[2, 1322500],\n",
      "    edge_weight=[1322500],\n",
      "  }\n",
      ")\n"
     ]
    }
   ],
   "source": [
    "path = \"./Data/multigraphs/heteroData_gene_cell_All_cgp_cnv_META.pt\"\n",
    "\n",
    "new_data = torch.load(path)\n",
    "print(new_data)"
   ]
  },
  {
   "cell_type": "code",
   "execution_count": 10,
   "metadata": {},
   "outputs": [],
   "source": [
    "#load cell line metadata\n",
    "\n",
    "path = \"./Data/Depmap/Model.csv\"\n",
    "cellines = pd.read_csv(path, header=0, index_col=0)"
   ]
  },
  {
   "cell_type": "code",
   "execution_count": 19,
   "metadata": {},
   "outputs": [
    {
     "name": "stdout",
     "output_type": "stream",
     "text": [
      "                                                                                  cells  \\\n",
      "OncotreePrimaryDisease                                                                    \n",
      "Non-Small Cell Lung Cancer            [ACH-000012, ACH-000015, ACH-000021, ACH-00002...   \n",
      "Non-Cancerous                         [ACH-000043, ACH-000049, ACH-000063, ACH-00006...   \n",
      "Mature B-Cell Neoplasms               [ACH-000024, ACH-000050, ACH-000056, ACH-00005...   \n",
      "Melanoma                              [ACH-000008, ACH-000014, ACH-000219, ACH-00027...   \n",
      "Diffuse Glioma                        [ACH-000027, ACH-000036, ACH-000040, ACH-00006...   \n",
      "...                                                                                 ...   \n",
      "Giant Cell Tumor of Bone                                                   [ACH-003191]   \n",
      "Glassy Cell Carcinoma of the Cervix                                        [ACH-002019]   \n",
      "Head and Neck Carcinoma, Other                                             [ACH-002234]   \n",
      "Myelodysplastic Syndromes                                                  [ACH-000487]   \n",
      "Acute Leukemias of Ambiguous Lineage                                       [ACH-002276]   \n",
      "\n",
      "                                      length  \n",
      "OncotreePrimaryDisease                        \n",
      "Non-Small Cell Lung Cancer               163  \n",
      "Non-Cancerous                            133  \n",
      "Mature B-Cell Neoplasms                  121  \n",
      "Melanoma                                 110  \n",
      "Diffuse Glioma                            94  \n",
      "...                                      ...  \n",
      "Giant Cell Tumor of Bone                   1  \n",
      "Glassy Cell Carcinoma of the Cervix        1  \n",
      "Head and Neck Carcinoma, Other             1  \n",
      "Myelodysplastic Syndromes                  1  \n",
      "Acute Leukemias of Ambiguous Lineage       1  \n",
      "\n",
      "[89 rows x 2 columns]\n"
     ]
    },
    {
     "name": "stderr",
     "output_type": "stream",
     "text": [
      "/var/folders/ds/76n_grr91zn97zn1yl541y5c0000gn/T/ipykernel_68045/3312424889.py:1: DeprecationWarning: DataFrameGroupBy.apply operated on the grouping columns. This behavior is deprecated, and in a future version of pandas the grouping columns will be excluded from the operation. Either pass `include_groups=False` to exclude the groupings or explicitly select the grouping columns after groupby to silence this warning.\n",
      "  dis_groups = cellines.groupby(\"OncotreePrimaryDisease\").apply(lambda df: list(df.index)).to_frame(name=\"cells\")\n"
     ]
    }
   ],
   "source": [
    "dis_groups = cellines.groupby(\"OncotreePrimaryDisease\").apply(lambda df: list(df.index)).to_frame(name=\"cells\")\n",
    "dis_groups[\"length\"] = dis_groups[\"cells\"].apply(len)\n",
    "\n",
    "# Sort by the length column in descending order\n",
    "dis_groups = dis_groups.sort_values(by=\"length\", ascending=False)\n",
    "\n",
    "print(dis_groups)\n"
   ]
  },
  {
   "cell_type": "code",
   "execution_count": 20,
   "metadata": {},
   "outputs": [
    {
     "name": "stdout",
     "output_type": "stream",
     "text": [
      "                                                                                  cells  \\\n",
      "OncotreePrimaryDisease                                                                    \n",
      "Non-Small Cell Lung Cancer            [ACH-000012, ACH-000015, ACH-000021, ACH-00002...   \n",
      "Non-Cancerous                         [ACH-000043, ACH-000049, ACH-000063, ACH-00006...   \n",
      "Mature B-Cell Neoplasms               [ACH-000024, ACH-000050, ACH-000056, ACH-00005...   \n",
      "Melanoma                              [ACH-000008, ACH-000014, ACH-000219, ACH-00027...   \n",
      "Diffuse Glioma                        [ACH-000027, ACH-000036, ACH-000040, ACH-00006...   \n",
      "...                                                                                 ...   \n",
      "Giant Cell Tumor of Bone                                                   [ACH-003191]   \n",
      "Glassy Cell Carcinoma of the Cervix                                        [ACH-002019]   \n",
      "Head and Neck Carcinoma, Other                                             [ACH-002234]   \n",
      "Myelodysplastic Syndromes                                                  [ACH-000487]   \n",
      "Acute Leukemias of Ambiguous Lineage                                       [ACH-002276]   \n",
      "\n",
      "                                      length  \n",
      "OncotreePrimaryDisease                        \n",
      "Non-Small Cell Lung Cancer               163  \n",
      "Non-Cancerous                            133  \n",
      "Mature B-Cell Neoplasms                  121  \n",
      "Melanoma                                 110  \n",
      "Diffuse Glioma                            94  \n",
      "...                                      ...  \n",
      "Giant Cell Tumor of Bone                   1  \n",
      "Glassy Cell Carcinoma of the Cervix        1  \n",
      "Head and Neck Carcinoma, Other             1  \n",
      "Myelodysplastic Syndromes                  1  \n",
      "Acute Leukemias of Ambiguous Lineage       1  \n",
      "\n",
      "[89 rows x 2 columns]\n"
     ]
    }
   ],
   "source": [
    "print(dis_groups)\n"
   ]
  },
  {
   "cell_type": "code",
   "execution_count": null,
   "metadata": {},
   "outputs": [],
   "source": []
  }
 ],
 "metadata": {
  "kernelspec": {
   "display_name": "env",
   "language": "python",
   "name": "python3"
  },
  "language_info": {
   "codemirror_mode": {
    "name": "ipython",
    "version": 3
   },
   "file_extension": ".py",
   "mimetype": "text/x-python",
   "name": "python",
   "nbconvert_exporter": "python",
   "pygments_lexer": "ipython3",
   "version": "3.11.10"
  }
 },
 "nbformat": 4,
 "nbformat_minor": 2
}
